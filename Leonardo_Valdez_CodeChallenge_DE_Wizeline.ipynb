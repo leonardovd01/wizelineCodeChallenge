{
 "cells": [
  {
   "cell_type": "markdown",
   "metadata": {
    "id": "Ab6tQ8XLwqzG"
   },
   "source": [
    "#Data Bootcamp Selection Challenge\n",
    "#####In this challenge you will calculate various KPIs using a car based dataset, each question will have a single correct answer that will be evaluated through automated unit testing. Use the dictionary provided below to fill in your answers, each question will state the format required for the answer and examples are provided so you know how properly fill the answer dictionary. \n",
    "#####**Use the dataset \"as is\" and do not perform any data cleaning or modify it in any way, doing so could make you answer all your questions incorrectly. Do not modify the structure of the answer dictionary.**\n",
    "\n",
    "#####When you finish this challenge please upload both your notebook and your answer dictionary in pickle format to a public github repository submit their URL to the [google form](https://forms.gle/wWysZEMkoZsjB11Y7) that was provided to you.\n",
    "\n",
    "##### Some unit tests are provided at the end of this notebook to help you verify your answers are in the correct format, however they will not test everything.\n",
    "\n",
    "\n",
    "\n"
   ]
  },
  {
   "cell_type": "code",
   "execution_count": 1,
   "metadata": {
    "id": "1kj3oTmRvWXi"
   },
   "outputs": [],
   "source": [
    "#Use this dictionary to store your answers in the correct format in the cells below , do not modify the keys\n",
    "answer_dict =  {\"Q1\" : None,\n",
    "                \"Q2\" : None,\n",
    "                \"Q3\" : None,\n",
    "                \"Q4\" : None,\n",
    "                \"Q5\" : None,\n",
    "                \"Q6\" : None,\n",
    "                \"Q7\" : None}"
   ]
  },
  {
   "cell_type": "markdown",
   "metadata": {
    "id": "Z0pZ4Vlx3VZy"
   },
   "source": [
    "##Reading the dataset\n",
    "#####An example is provided to read the dataset using [pandas](https://pandas.pydata.org/), while we reccommend using pandas you may use any python library to solve this challenge. "
   ]
  },
  {
   "cell_type": "code",
   "execution_count": 2,
   "metadata": {
    "id": "7U3UNKSj3oxa"
   },
   "outputs": [],
   "source": [
    "import pandas as pd\n",
    "import numpy as np\n",
    "url='https://drive.google.com/file/d/1PCJ7ltluquoXKi6MYTPMfwZQNI_-MIFP/view?usp=sharing'\n",
    "url='https://drive.google.com/uc?id=' + url.split('/')[-2]\n",
    "df = pd.read_csv(url)"
   ]
  },
  {
   "cell_type": "code",
   "execution_count": 3,
   "metadata": {
    "id": "J10uW58Qv2B_"
   },
   "outputs": [
    {
     "data": {
      "text/html": [
       "<div>\n",
       "<style scoped>\n",
       "    .dataframe tbody tr th:only-of-type {\n",
       "        vertical-align: middle;\n",
       "    }\n",
       "\n",
       "    .dataframe tbody tr th {\n",
       "        vertical-align: top;\n",
       "    }\n",
       "\n",
       "    .dataframe thead th {\n",
       "        text-align: right;\n",
       "    }\n",
       "</style>\n",
       "<table border=\"1\" class=\"dataframe\">\n",
       "  <thead>\n",
       "    <tr style=\"text-align: right;\">\n",
       "      <th></th>\n",
       "      <th>Make</th>\n",
       "      <th>Model</th>\n",
       "      <th>Year</th>\n",
       "      <th>Engine Displacement</th>\n",
       "      <th>Cylinders</th>\n",
       "      <th>Transmission</th>\n",
       "      <th>Drivetrain</th>\n",
       "      <th>Vehicle Class</th>\n",
       "      <th>Fuel Type</th>\n",
       "      <th>Fuel Barrels/Year</th>\n",
       "      <th>City MPG</th>\n",
       "      <th>Highway MPG</th>\n",
       "      <th>Combined MPG</th>\n",
       "      <th>CO2 Emission Grams/Mile</th>\n",
       "      <th>Fuel Cost/Year</th>\n",
       "    </tr>\n",
       "  </thead>\n",
       "  <tbody>\n",
       "    <tr>\n",
       "      <th>0</th>\n",
       "      <td>AM General</td>\n",
       "      <td>DJ Po Vehicle 2WD</td>\n",
       "      <td>1984</td>\n",
       "      <td>2.5</td>\n",
       "      <td>4.0</td>\n",
       "      <td>Automatic 3-spd</td>\n",
       "      <td>2-Wheel Drive</td>\n",
       "      <td>Special Purpose Vehicle 2WD</td>\n",
       "      <td>Regular</td>\n",
       "      <td>19.388824</td>\n",
       "      <td>18</td>\n",
       "      <td>17</td>\n",
       "      <td>17</td>\n",
       "      <td>522.764706</td>\n",
       "      <td>1950</td>\n",
       "    </tr>\n",
       "    <tr>\n",
       "      <th>1</th>\n",
       "      <td>AM General</td>\n",
       "      <td>FJ8c Post Office</td>\n",
       "      <td>1984</td>\n",
       "      <td>4.2</td>\n",
       "      <td>6.0</td>\n",
       "      <td>Automatic 3-spd</td>\n",
       "      <td>2-Wheel Drive</td>\n",
       "      <td>Special Purpose Vehicle 2WD</td>\n",
       "      <td>Regular</td>\n",
       "      <td>25.354615</td>\n",
       "      <td>13</td>\n",
       "      <td>13</td>\n",
       "      <td>13</td>\n",
       "      <td>683.615385</td>\n",
       "      <td>2550</td>\n",
       "    </tr>\n",
       "    <tr>\n",
       "      <th>2</th>\n",
       "      <td>AM General</td>\n",
       "      <td>Post Office DJ5 2WD</td>\n",
       "      <td>1985</td>\n",
       "      <td>2.5</td>\n",
       "      <td>4.0</td>\n",
       "      <td>Automatic 3-spd</td>\n",
       "      <td>Rear-Wheel Drive</td>\n",
       "      <td>Special Purpose Vehicle 2WD</td>\n",
       "      <td>Regular</td>\n",
       "      <td>20.600625</td>\n",
       "      <td>16</td>\n",
       "      <td>17</td>\n",
       "      <td>16</td>\n",
       "      <td>555.437500</td>\n",
       "      <td>2100</td>\n",
       "    </tr>\n",
       "    <tr>\n",
       "      <th>3</th>\n",
       "      <td>AM General</td>\n",
       "      <td>Post Office DJ8 2WD</td>\n",
       "      <td>1985</td>\n",
       "      <td>4.2</td>\n",
       "      <td>6.0</td>\n",
       "      <td>Automatic 3-spd</td>\n",
       "      <td>Rear-Wheel Drive</td>\n",
       "      <td>Special Purpose Vehicle 2WD</td>\n",
       "      <td>Regular</td>\n",
       "      <td>25.354615</td>\n",
       "      <td>13</td>\n",
       "      <td>13</td>\n",
       "      <td>13</td>\n",
       "      <td>683.615385</td>\n",
       "      <td>2550</td>\n",
       "    </tr>\n",
       "    <tr>\n",
       "      <th>4</th>\n",
       "      <td>ASC Incorporated</td>\n",
       "      <td>GNX</td>\n",
       "      <td>1987</td>\n",
       "      <td>3.8</td>\n",
       "      <td>6.0</td>\n",
       "      <td>Automatic 4-spd</td>\n",
       "      <td>Rear-Wheel Drive</td>\n",
       "      <td>Midsize Cars</td>\n",
       "      <td>Premium</td>\n",
       "      <td>20.600625</td>\n",
       "      <td>14</td>\n",
       "      <td>21</td>\n",
       "      <td>16</td>\n",
       "      <td>555.437500</td>\n",
       "      <td>2550</td>\n",
       "    </tr>\n",
       "  </tbody>\n",
       "</table>\n",
       "</div>"
      ],
      "text/plain": [
       "               Make                Model  Year  Engine Displacement  \\\n",
       "0        AM General    DJ Po Vehicle 2WD  1984                  2.5   \n",
       "1        AM General     FJ8c Post Office  1984                  4.2   \n",
       "2        AM General  Post Office DJ5 2WD  1985                  2.5   \n",
       "3        AM General  Post Office DJ8 2WD  1985                  4.2   \n",
       "4  ASC Incorporated                  GNX  1987                  3.8   \n",
       "\n",
       "   Cylinders     Transmission        Drivetrain                Vehicle Class  \\\n",
       "0        4.0  Automatic 3-spd     2-Wheel Drive  Special Purpose Vehicle 2WD   \n",
       "1        6.0  Automatic 3-spd     2-Wheel Drive  Special Purpose Vehicle 2WD   \n",
       "2        4.0  Automatic 3-spd  Rear-Wheel Drive  Special Purpose Vehicle 2WD   \n",
       "3        6.0  Automatic 3-spd  Rear-Wheel Drive  Special Purpose Vehicle 2WD   \n",
       "4        6.0  Automatic 4-spd  Rear-Wheel Drive                 Midsize Cars   \n",
       "\n",
       "  Fuel Type  Fuel Barrels/Year  City MPG  Highway MPG  Combined MPG  \\\n",
       "0   Regular          19.388824        18           17            17   \n",
       "1   Regular          25.354615        13           13            13   \n",
       "2   Regular          20.600625        16           17            16   \n",
       "3   Regular          25.354615        13           13            13   \n",
       "4   Premium          20.600625        14           21            16   \n",
       "\n",
       "   CO2 Emission Grams/Mile  Fuel Cost/Year  \n",
       "0               522.764706            1950  \n",
       "1               683.615385            2550  \n",
       "2               555.437500            2100  \n",
       "3               683.615385            2550  \n",
       "4               555.437500            2550  "
      ]
     },
     "execution_count": 3,
     "metadata": {},
     "output_type": "execute_result"
    }
   ],
   "source": [
    "df.head()"
   ]
  },
  {
   "cell_type": "code",
   "execution_count": 4,
   "metadata": {
    "id": "LutcGEx8v4GY"
   },
   "outputs": [
    {
     "name": "stdout",
     "output_type": "stream",
     "text": [
      "<class 'pandas.core.frame.DataFrame'>\n",
      "RangeIndex: 35952 entries, 0 to 35951\n",
      "Data columns (total 15 columns):\n",
      " #   Column                   Non-Null Count  Dtype  \n",
      "---  ------                   --------------  -----  \n",
      " 0   Make                     35952 non-null  object \n",
      " 1   Model                    35952 non-null  object \n",
      " 2   Year                     35952 non-null  int64  \n",
      " 3   Engine Displacement      35952 non-null  float64\n",
      " 4   Cylinders                35952 non-null  float64\n",
      " 5   Transmission             35952 non-null  object \n",
      " 6   Drivetrain               35952 non-null  object \n",
      " 7   Vehicle Class            35952 non-null  object \n",
      " 8   Fuel Type                35952 non-null  object \n",
      " 9   Fuel Barrels/Year        35952 non-null  float64\n",
      " 10  City MPG                 35952 non-null  int64  \n",
      " 11  Highway MPG              35952 non-null  int64  \n",
      " 12  Combined MPG             35952 non-null  int64  \n",
      " 13  CO2 Emission Grams/Mile  35952 non-null  float64\n",
      " 14  Fuel Cost/Year           35952 non-null  int64  \n",
      "dtypes: float64(4), int64(5), object(6)\n",
      "memory usage: 4.1+ MB\n"
     ]
    }
   ],
   "source": [
    "df.info()"
   ]
  },
  {
   "cell_type": "markdown",
   "metadata": {
    "id": "kLRp8K_wnEJG"
   },
   "source": [
    "##Q1. What is the average CO2 emmission per gram/mile of all Volkswagen cars?\n",
    "\n",
    "##### Format: A floating number\n",
    "##### Example answer:\n",
    " `11.547`"
   ]
  },
  {
   "cell_type": "code",
   "execution_count": 5,
   "metadata": {
    "id": "jBGXf7RRnEoV"
   },
   "outputs": [],
   "source": [
    "########## Q1\n",
    "#Your code here\n",
    "Q1 = df.loc[df['Make'] == 'Volkswagen']['CO2 Emission Grams/Mile'].mean()\n",
    "\n",
    "#Example answer:\n",
    "answer_dict['Q1'] = float(Q1)\n",
    "\n",
    "#answer_dict[\"Q1\"] =  392.74172108576107"
   ]
  },
  {
   "cell_type": "markdown",
   "metadata": {
    "id": "SPNq7yn74kjd"
   },
   "source": [
    "##Q2. Calculate the top 5 brands(Make) with the most unique models, order your answer in descending order with respect to the number of unique models.\n",
    "##### **NOTE:** Consider only the name of the models and their brand, that is use only the Make and Model columns\n",
    "##### Format: A 5X2 list with each row being the name of the brand followed by the unique number of models, in descending order.\n",
    "#####Hint: You can use the pandas [df.values.tolist()](https://pandas.pydata.org/docs/reference/api/pandas.Series.tolist.html) function to format your answer.\n",
    "\n",
    "##### Example answer: \n",
    "`[[\"Volkswagen\", 1000], [\"Toyota\", 900], [\"Honda\", 800], [\"Subaru\", 700], [\"Ford\", 600]]`"
   ]
  },
  {
   "cell_type": "code",
   "execution_count": 6,
   "metadata": {
    "id": "StipyFue4Dx-"
   },
   "outputs": [],
   "source": [
    "########## Q2\n",
    "#Your code here\n",
    "Q2 = df.groupby('Make')['Model'].nunique().nlargest(n=5).reset_index().sort_values('Model', ascending=False)\n",
    "\n",
    "#Example answer:\n",
    "answer_dict['Q2'] = Q2.values.tolist()\n",
    "\n",
    "#answer_dict[\"Q2\"] =  [[\"Volkswagen\", 1000], [\"Toyota\", 900], [\"Honda\", 800], [\"Subaru\", 700], [\"Ford\", 600]] "
   ]
  },
  {
   "cell_type": "markdown",
   "metadata": {
    "id": "EGxv7N15AiLu"
   },
   "source": [
    "##Q3. What are all the different types of fuels in the dataset sorted alphabetically?\n",
    "##### Format: A list of strings sorted alphabetically.\n",
    "##### Example Answer: \n",
    "`['Regular',\n",
    " 'Premium']`"
   ]
  },
  {
   "cell_type": "code",
   "execution_count": 7,
   "metadata": {
    "id": "otyDsWpsAjde"
   },
   "outputs": [],
   "source": [
    "########## Q3\n",
    "#Your code here\n",
    "Q3 = df['Fuel Type'].unique()\n",
    "Q3 = np.sort(Q3)\n",
    "#Example answer:\n",
    "\n",
    "answer_dict['Q3'] = Q3.tolist()\n",
    "#answer_dict[\"Q3\"] =  ['Regular', 'Premium'] "
   ]
  },
  {
   "cell_type": "markdown",
   "metadata": {
    "id": "ijpZht03tV5W"
   },
   "source": [
    "##Q4. Show the 9 Toyota cars with the most extreme Fuel Barrels/Year in abosolute terms within all Toyota cars. Show the car Model, Year and their Fuel Barrels/Year in standard deviation units([Z-score](https://fredclavel.org/2019/03/18/basics-standardization-and-the-z-score/)) **sorted** in descending order by their Fuel Barrels/Year in absolute terms first and then by year in descending order **BUT** without modifying the negative values (see example).\n",
    "\n",
    "##### Format: A 9X3 list with each row containing the Model, Year and Fuel Barrels/Year in standard deviations units\n",
    "\n",
    "##### Example answer: \n",
    "```\n",
    "[['DJ Po Vehicle 2WD', 2004, -6.407431084026927],\n",
    " ['FJ8c Post Office', 2003, -6.407431084026927],\n",
    " ['Post Office DJ5 2WD', 2005, -6.391684618442447],\n",
    " ['Sierra 2500 Hd 2WD', 2002, -6.391684618442447],\n",
    " ['Camry CNG', 2012, 2.677633075759575],\n",
    " ['Sierra 1500 4WD', 2005, 2.677633075759575],\n",
    " ['Sierra 1500 4WD', 2001, 2.677633075759575],\n",
    " ['V15 Suburban 4WD', 1988, 2.677633075759575],\n",
    " ['V15 Suburban 4WD', 1987, 2.677633075759575]]\n",
    "```\n",
    "#####Note that while the list is sorted by the Fuel Barrels/Year in absolute terms and in standard deviation units, the values are not modified. If the values are the same the rows are sorted by the year.\n"
   ]
  },
  {
   "cell_type": "code",
   "execution_count": 8,
   "metadata": {
    "id": "de_GgmrFVcvO"
   },
   "outputs": [],
   "source": [
    "########## Q4\n",
    "#Your code here\n",
    "from scipy.stats import zscore\n",
    "TY = df.loc[df['Make']=='Toyota'][['Model', 'Year', 'Fuel Barrels/Year']]\n",
    "TY['ZS FB'] = zscore(TY['Fuel Barrels/Year'])\n",
    "TY['ZS FB ABS'] = TY['ZS FB'].abs()\n",
    "Q4 = TY.nlargest(9, ['ZS FB ABS', 'Year'])[['Model', 'Year', 'ZS FB']]\n",
    "\n",
    "#Example answer:\n",
    "answer_dict['Q4'] = Q4.values.tolist()"
   ]
  },
  {
   "cell_type": "markdown",
   "metadata": {
    "id": "7eCpEljJnXzt"
   },
   "source": [
    "##Q5. Calculate the changes in Combined MPG with their previous model of all Golf cars with Manual 5-spd transmission and Regular Fuel Type. Show the Year, the Combined MPG and the calculated difference of MPG in a list sorted by Year in ascending order.\n",
    "\n",
    "##### Format: A 19X3 list, with the Year and Combined MPG being of type integer **and only the calculated difference is of type float**\n",
    "##### **Note: The value for the first model should be 0.** It does not matter that there are gaps in the years, calculate with respect the previous model.\n",
    "\n",
    "#####Example answer:\n",
    "\n",
    "\n",
    "\n",
    "```\n",
    "[[1986, 25, 0.0],\n",
    " [1987, 25, 0.0],\n",
    " [1988, 25, 0.0],\n",
    " [1989, 25, 0.0],\n",
    " [1990, 23, -2.0],\n",
    " [1991, 23, 0.0],\n",
    " [1992, 24, 1.0],\n",
    " [1993, 25, 1.0],\n",
    " [1994, 25, 0.0],\n",
    " [1995, 25, 0.0],\n",
    " [1996, 25, 0.0],\n",
    " [1997, 25, 0.0],\n",
    " [1998, 24, -1.0],\n",
    " [1999, 25, 1.0],\n",
    " [2000, 24, -1.0],\n",
    " [2001, 24, 0.0],\n",
    " [2002, 24, 0.0],\n",
    " [2004, 24, 0.0],\n",
    " [2006, 24, 0.0]]\n",
    "```\n",
    "\n",
    "\n",
    "\n"
   ]
  },
  {
   "cell_type": "code",
   "execution_count": 9,
   "metadata": {
    "id": "lMlKfEWUH3S9"
   },
   "outputs": [],
   "source": [
    "########## Q5\n",
    "#Your code here\n",
    "GM5 = df.loc[(df['Model']=='Golf') & (df['Transmission']=='Manual 5-spd') & (df['Fuel Type']=='Regular')].sort_values('Year')\n",
    "GM5['Diff'] = GM5['Combined MPG'].diff()\n",
    "GM5['Diff'] = GM5['Diff'].fillna(0)\n",
    "Q5 = GM5[['Year', 'Combined MPG', 'Diff']]\n",
    "Q5 = Q5.values.tolist()\n",
    "\n",
    "for x in Q5:\n",
    "    x[0]=int(x[0])\n",
    "    x[1]=int(x[1])\n",
    "    x[2]=float(x[2])\n",
    "\n",
    "\n",
    "#Example answer:\n",
    "answer_dict['Q5'] = Q5\n",
    "#answer_dict['Q5'] = YYYYY"
   ]
  },
  {
   "cell_type": "code",
   "execution_count": null,
   "metadata": {},
   "outputs": [],
   "source": []
  },
  {
   "cell_type": "markdown",
   "metadata": {
    "id": "EnHdqUs-nagE"
   },
   "source": [
    "##Q6. What are the top 5 lowest CO2 Emission Grams/Mile emmisions of cars for each of the following brands: Toyota, Ford, Volkswagen, Nissan, Honda\n",
    "\n",
    "#####Format: A 5X6 list with the first element of each row being the Make of the cars and the following five values being floats sorted in ascending order. The Makes should appear in order listed in the question starting with Toyota and ending with Honda (see example).\n",
    "\n",
    "#####Example answer:\n",
    "\n",
    "```\n",
    "[['Toyota', 100.0, 140.0, 140.0, 150.0, 150.0],\n",
    " ['Ford',\n",
    "  100.025641025641,\n",
    "  200.677633075759575,\n",
    "  200.677633075759575,\n",
    "  200.677633075759575,\n",
    "  200.677633075759575],\n",
    " ['Volkswagen', 139.0, 154.0, 166.5, 166.5, 166.5],\n",
    " ['Nissan', 122.0, 122.0, 122.0, 122.0, 160.0],\n",
    " ['Honda', 100.0, 100.0, 100.0, 100.0, 123.91684618442447]]\n",
    "```\n",
    "\n",
    "\n",
    "\n",
    "\n"
   ]
  },
  {
   "cell_type": "code",
   "execution_count": 10,
   "metadata": {
    "id": "8KKg3bT6na41"
   },
   "outputs": [],
   "source": [
    "########## Q6\n",
    "#Your code here\n",
    "\n",
    "\n",
    "CO2 = df[df['Make'].isin(['Toyota', 'Ford', 'Volkswagen', 'Nissan', 'Honda']) ]\n",
    "order_dic = {'Toyota': 0, 'Ford': 1, 'Volkswagen': 2, 'Nissan': 3, 'Honda': 4}\n",
    "CO2T5 = CO2.groupby(['Make'])['CO2 Emission Grams/Mile'].nsmallest(5).reset_index()\n",
    "Q6 = CO2T5.sort_values(by=['Make', 'CO2 Emission Grams/Mile'], key=lambda x: x.map(order_dic))\n",
    "Q6 = Q6.drop(['level_1'], axis=1)\n",
    "Q6 = Q6.values.tolist()\n",
    "\n",
    "output_dict = {}\n",
    "for key, *values in Q6:\n",
    "    if key not in output_dict:\n",
    "        output_dict[key] = [key]\n",
    "    output_dict[key].extend(values)\n",
    "\n",
    "#Example answer:\n",
    "answer_dict['Q6'] = [(value) for value in output_dict.values()]"
   ]
  },
  {
   "cell_type": "code",
   "execution_count": null,
   "metadata": {},
   "outputs": [],
   "source": []
  },
  {
   "cell_type": "markdown",
   "metadata": {
    "id": "gDNo1Fcesgk5"
   },
   "source": [
    "##Q7. Form 7 groups of 5 years to calculated the median Combined MPG of each group. The first group is from 1984 to 1988, the second from 1989 to 1993 and so on. The last group will have years not appearing in the dataset.\n",
    "\n",
    "#####Note: The groups ranges are inclusive on both sides, the first group starts with 1984 and cars from 1984 are included in it.\n",
    "#####Format : A 7X2 list with the first element of each row being a tuple of two integers being the lower and uppper range of the year groups and the esecond element being the median Combined MPG of that group, a float number.\n",
    "\n",
    "#####Example answer:\n",
    "\n",
    "\n",
    "```\n",
    "[[(1984, 1988), 11.0],\n",
    " [(1989, 1993), 10.0],\n",
    " [(1994, 1998), 10.0],\n",
    " [(1999, 2003), 14.0],\n",
    " [(2004, 2008), 13.0],\n",
    " [(2009, 2013), 14.0],\n",
    " [(2014, 2018), 15.0]]\n",
    "```\n",
    "\n"
   ]
  },
  {
   "cell_type": "code",
   "execution_count": 11,
   "metadata": {
    "id": "1cMEyFXVxBU3"
   },
   "outputs": [],
   "source": [
    "########## Q7\n",
    "#Your code here\n",
    "MPG = df\n",
    "ranges = ((1984, 1988), (1989, 1993), (1994, 1998), (1999, 2003),\n",
    "        (2004, 2008), (2009, 2013), (2014, 2018))\n",
    "\n",
    "bins = pd.IntervalIndex.from_tuples(ranges, closed = 'both')\n",
    "MPG['Filter'] = pd.cut(MPG['Year'], bins = bins)\n",
    "Medians = MPG.groupby('Filter')['Combined MPG'].median().values.tolist()\n",
    "Medians = [float(x) for x in Medians]\n",
    "\n",
    "\n",
    "Q7 = [list(pair) for pair in zip(ranges, Medians)]\n",
    "\n",
    "#Example answer:\n",
    "answer_dict['Q7'] = Q7"
   ]
  },
  {
   "cell_type": "code",
   "execution_count": null,
   "metadata": {},
   "outputs": [],
   "source": []
  },
  {
   "cell_type": "markdown",
   "metadata": {
    "id": "LiGydnlQ4cX4"
   },
   "source": [
    "##Test your answers\n",
    "\n",
    "##### We provide you some tests to make sure your answer dictionary is in the correct format using unittest.\n",
    "##### These tests are not meant to be comprehensive, you should review all your answers carefully."
   ]
  },
  {
   "cell_type": "code",
   "execution_count": 12,
   "metadata": {
    "id": "iNwVFmHZ4csn"
   },
   "outputs": [
    {
     "name": "stderr",
     "output_type": "stream",
     "text": [
      "test_Q1 (__main__.TestAnswers) ... ok\n",
      "test_Q2_dim (__main__.TestAnswers) ... ok\n",
      "test_Q2_types (__main__.TestAnswers) ... ok\n",
      "test_Q3_types (__main__.TestAnswers) ... ok\n",
      "test_Q4_dim (__main__.TestAnswers) ... ok\n",
      "test_Q4_types (__main__.TestAnswers) ... ok\n",
      "test_Q5_dim (__main__.TestAnswers) ... ok\n",
      "test_Q5_first_zero (__main__.TestAnswers) ... ok\n",
      "test_Q5_types (__main__.TestAnswers) ... ok\n",
      "test_Q6_check_first_and_last_brand (__main__.TestAnswers) ... ok\n",
      "test_Q6_dim (__main__.TestAnswers) ... ok\n",
      "test_Q7_dim (__main__.TestAnswers) ... ok\n",
      "test_Q7_types (__main__.TestAnswers) ... ok\n",
      "test_answers_types (__main__.TestAnswers) ... ok\n",
      "test_if_dict (__main__.TestAnswers) ... ok\n",
      "test_keys (__main__.TestAnswers) ... ok\n",
      "\n",
      "----------------------------------------------------------------------\n",
      "Ran 16 tests in 0.012s\n",
      "\n",
      "OK\n"
     ]
    },
    {
     "data": {
      "text/plain": [
       "<unittest.main.TestProgram at 0x2bf7ead5040>"
      ]
     },
     "execution_count": 12,
     "metadata": {},
     "output_type": "execute_result"
    }
   ],
   "source": [
    "import unittest\n",
    "\n",
    "class TestAnswers(unittest.TestCase):\n",
    "    def test_if_dict(self):\n",
    "        self.assertIsInstance(answer_dict, dict)\n",
    "\n",
    "    def test_keys(self):\n",
    "        self.assertEqual(list(answer_dict.keys()), ['Q1', 'Q2', 'Q3', 'Q4', 'Q5', 'Q6', 'Q7'])\n",
    "\n",
    "    def test_answers_types(self):\n",
    "        types_values = [type(k) for k in answer_dict.values()]\n",
    "        answer_types = [float, list, list, list, list, list, list]\n",
    "        self.assertEqual(types_values, answer_types)\n",
    "\n",
    "    def test_Q1(self):\n",
    "        self.assertEqual(type(answer_dict['Q1']), float)\n",
    "\n",
    "    def test_Q2_dim(self):\n",
    "        self.assertEqual(np.array(answer_dict['Q2']).shape, (5,2))\n",
    "\n",
    "    def test_Q2_types(self):\n",
    "        dtype1 = type(answer_dict['Q2'][0][0])\n",
    "        dtype2 = type(answer_dict['Q2'][0][1])\n",
    "        self.assertEqual([dtype1, dtype2], [str, int])\n",
    "\n",
    "    def test_Q3_types(self):\n",
    "        q3_types = set([type(item) for item in answer_dict['Q3']])\n",
    "        self.assertEqual(q3_types, {str})\n",
    "\n",
    "    def test_Q4_dim(self):\n",
    "        self.assertEqual(np.array(answer_dict['Q4']).shape, (9,3))\n",
    "\n",
    "    def test_Q4_types(self):\n",
    "        dtype1 = type(answer_dict['Q4'][0][0])\n",
    "        dtype2 = type(answer_dict['Q4'][0][1])\n",
    "        dtype3 = type(answer_dict['Q4'][0][2])\n",
    "        self.assertEqual([dtype1, dtype2, dtype3], [str, int, float])\n",
    "\n",
    "    def test_Q5_dim(self):\n",
    "        self.assertEqual(np.array(answer_dict['Q5']).shape, (19,3))\n",
    "\n",
    "    def test_Q5_types(self):\n",
    "        dtype1 = type(answer_dict['Q5'][0][0])\n",
    "        dtype2 = type(answer_dict['Q5'][0][1])\n",
    "        dtype3 = type(answer_dict['Q5'][0][2])\n",
    "        self.assertEqual([dtype1, dtype2, dtype3], [int, int, float])\n",
    "\n",
    "    def test_Q5_first_zero(self):\n",
    "        self.assertEqual(answer_dict['Q5'][0][2], 0)\n",
    "\n",
    "\n",
    "    def test_Q6_dim(self):\n",
    "        self.assertEqual(np.array(answer_dict['Q6']).shape, (5,6))\n",
    "\n",
    "    def test_Q5_types(self):\n",
    "        dtype1 = type(answer_dict['Q6'][0][0])\n",
    "        dtype2 = type(answer_dict['Q6'][0][1])\n",
    "        dtype3 = type(answer_dict['Q6'][0][2])\n",
    "        dtype4 = type(answer_dict['Q6'][0][3])\n",
    "        dtype5 = type(answer_dict['Q6'][0][4])\n",
    "        dtype6 = type(answer_dict['Q6'][0][5])\n",
    "        self.assertEqual([dtype1, dtype2, dtype3, dtype4, dtype5, dtype6], [str, float, float, float, float, float])\n",
    "\n",
    "    def test_Q6_check_first_and_last_brand(self):\n",
    "        first_brand = answer_dict['Q6'][0][0]\n",
    "        last_brand = answer_dict['Q6'][4][0]\n",
    "\n",
    "        self.assertEqual([first_brand, last_brand], [\"Toyota\", \"Honda\"])\n",
    "\n",
    "    def test_Q7_dim(self):\n",
    "        self.assertEqual(np.array(answer_dict['Q7'], dtype=object).shape, (7,2))\n",
    "\n",
    "    def test_Q7_types(self):\n",
    "        dtype1 = type(answer_dict['Q7'][0][0])\n",
    "        dtype2 = type(answer_dict['Q7'][0][1])\n",
    "        self.assertEqual([dtype1, dtype2], [tuple, float])\n",
    "\n",
    "unittest.main(argv=[''], verbosity=2, exit=False)"
   ]
  },
  {
   "cell_type": "markdown",
   "metadata": {
    "id": "O_Wx_D0kGjmc"
   },
   "source": [
    "##Save your answers\n",
    "\n",
    "\n",
    "##### First, take a moment to evaluate your answers and make sure you have not missed anything\n",
    "\n",
    "##### Use the following code to save your answers in pickle format, change the filename using the following format:\n",
    "##### FIRSTNAME_LASTNAME_answers.pkl\n",
    "##### Example: Juan_Perez_answers.pkl\n",
    "\n",
    "##### If you are using google colab you can find your file on the left side bar by clicking the folder icon inside the sample_data folder. Remember to upload the pickle file and the notebook to github and submit their URLs to the [google form](https://forms.gle/wWysZEMkoZsjB11Y7)."
   ]
  },
  {
   "cell_type": "code",
   "execution_count": 13,
   "metadata": {
    "id": "nCzU1sKMknfH"
   },
   "outputs": [
    {
     "data": {
      "text/plain": [
       "{'Q1': 392.74172108576107,\n",
       " 'Q2': [['Mercedes-Benz', 333],\n",
       "  ['BMW', 284],\n",
       "  ['Chevrolet', 253],\n",
       "  ['Ford', 185],\n",
       "  ['GMC', 163]],\n",
       " 'Q3': ['CNG',\n",
       "  'Diesel',\n",
       "  'Gasoline or E85',\n",
       "  'Gasoline or natural gas',\n",
       "  'Gasoline or propane',\n",
       "  'Midgrade',\n",
       "  'Premium',\n",
       "  'Premium Gas or Electricity',\n",
       "  'Premium and Electricity',\n",
       "  'Premium or E85',\n",
       "  'Regular',\n",
       "  'Regular Gas and Electricity',\n",
       "  'Regular Gas or Electricity'],\n",
       " 'Q4': [['Cab/Chassis 2WD', 1993, 4.113376218494312],\n",
       "  ['Cab/Chassis 2WD', 1992, 4.113376218494312],\n",
       "  ['Cab/Chassis 2WD', 1991, 4.113376218494312],\n",
       "  ['Cab/Chassis 2WD', 1990, 4.113376218494312],\n",
       "  ['Cab/Chassis 2WD', 1989, 4.113376218494312],\n",
       "  ['Camry CNG', 1999, -3.933613148435805],\n",
       "  ['Camry CNG', 2001, -3.932713521763228],\n",
       "  ['Camry CNG', 2000, -3.932713521763228],\n",
       "  ['Cab/Chassis 2WD', 1993, 3.3800324772464214]],\n",
       " 'Q5': [[1986, 26, 0.0],\n",
       "  [1987, 26, 0.0],\n",
       "  [1988, 25, -1.0],\n",
       "  [1989, 25, 0.0],\n",
       "  [1999, 24, -1.0],\n",
       "  [2000, 24, 0.0],\n",
       "  [2001, 24, 0.0],\n",
       "  [2002, 24, 0.0],\n",
       "  [2003, 24, 0.0],\n",
       "  [2004, 24, 0.0],\n",
       "  [2005, 24, 0.0],\n",
       "  [2006, 24, 0.0],\n",
       "  [2010, 25, 1.0],\n",
       "  [2011, 26, 1.0],\n",
       "  [2012, 26, 0.0],\n",
       "  [2013, 26, 0.0],\n",
       "  [2015, 30, 4.0],\n",
       "  [2016, 30, 0.0],\n",
       "  [2017, 29, -1.0]],\n",
       " 'Q6': [['Toyota', 133.0, 133.0, 133.0, 133.0, 158.0],\n",
       "  ['Ford', 112.0, 129.0, 129.0, 129.0, 129.0],\n",
       "  ['Volkswagen', 200.0, 200.0, 200.0, 200.0, 261.025641025641],\n",
       "  ['Nissan', 249.0, 254.0, 254.5, 254.5, 254.5],\n",
       "  ['Honda',\n",
       "   130.0,\n",
       "   167.67924528301887,\n",
       "   167.67924528301887,\n",
       "   167.67924528301887,\n",
       "   167.67924528301887]],\n",
       " 'Q7': [[(1984, 1988), 19.0],\n",
       "  [(1989, 1993), 18.0],\n",
       "  [(1994, 1998), 19.0],\n",
       "  [(1999, 2003), 19.0],\n",
       "  [(2004, 2008), 19.0],\n",
       "  [(2009, 2013), 21.0],\n",
       "  [(2014, 2018), 22.0]]}"
      ]
     },
     "execution_count": 13,
     "metadata": {},
     "output_type": "execute_result"
    }
   ],
   "source": [
    "answer_dict"
   ]
  },
  {
   "cell_type": "code",
   "execution_count": 14,
   "metadata": {
    "id": "dEZ-vo0QGTeu"
   },
   "outputs": [],
   "source": [
    "import pickle\n",
    "\n",
    "file_name = \"LEONARDO_VALDEZ_answers.pkl\"\n",
    "path = \"\"\n",
    "\n",
    "with open(path+file_name, 'wb') as f:\n",
    "    pickle.dump(answer_dict, f, protocol=pickle.HIGHEST_PROTOCOL)"
   ]
  },
  {
   "cell_type": "code",
   "execution_count": null,
   "metadata": {},
   "outputs": [],
   "source": []
  }
 ],
 "metadata": {
  "colab": {
   "collapsed_sections": [],
   "name": "Copia de Code_Challenge_Student.ipynb",
   "provenance": []
  },
  "kernelspec": {
   "display_name": "Python 3",
   "language": "python",
   "name": "python3"
  },
  "language_info": {
   "codemirror_mode": {
    "name": "ipython",
    "version": 3
   },
   "file_extension": ".py",
   "mimetype": "text/x-python",
   "name": "python",
   "nbconvert_exporter": "python",
   "pygments_lexer": "ipython3",
   "version": "3.9.1"
  }
 },
 "nbformat": 4,
 "nbformat_minor": 1
}
